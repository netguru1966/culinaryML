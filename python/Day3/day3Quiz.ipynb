{
 "cells": [
  {
   "cell_type": "markdown",
   "metadata": {},
   "source": [
    "# Day 3 Quiz"
   ]
  },
  {
   "cell_type": "markdown",
   "metadata": {},
   "source": [
    "#### *If you are using Google Colab ONLY, run this line:*"
   ]
  },
  {
   "cell_type": "code",
   "execution_count": 5,
   "metadata": {},
   "outputs": [
    {
     "name": "stdout",
     "output_type": "stream",
     "text": [
      "/bin/bash: wget: command not found\n",
      "/bin/bash: wget: command not found\n",
      "/bin/bash: wget: command not found\n"
     ]
    }
   ],
   "source": [
    "!wget https://raw.githubusercontent.com/aGitHasNoName/pythonBootcamp_3Day/main/DNAresults.csv\n",
    "!wget https://raw.githubusercontent.com/aGitHasNoName/pythonBootcamp_3Day/main/class_grades.txt\n",
    "!wget https://raw.githubusercontent.com/aGitHasNoName/pythonBootcamp_3Day/main/alice.txt"
   ]
  },
  {
   "cell_type": "markdown",
   "metadata": {},
   "source": [
    "1. Correct the errors in this code. It's ok to run the code first to see the error message:"
   ]
  },
  {
   "cell_type": "code",
   "execution_count": 2,
   "metadata": {},
   "outputs": [],
   "source": [
    "tiny_toons = {\"Elmyra Duff\" : \"Human\", \"Hamton J. Pig\" : \"Pig\", \n",
    "              \"Babs Bunny\" : \"Rabbit\", \"Buster Bunny\" : \"Rabbit\", \n",
    "              \"Plucky Duck\" : \"Duck\", \"Montana Max\" : \"Human\", \n",
    "              \"Fifi La Fume\" : \"Skunk\"}"
   ]
  },
  {
   "cell_type": "markdown",
   "metadata": {},
   "source": [
    "2. Correct the errors in this code. It's ok to run the code first to see the error message:"
   ]
  },
  {
   "cell_type": "code",
   "execution_count": 7,
   "metadata": {},
   "outputs": [
    {
     "name": "stdout",
     "output_type": "stream",
     "text": [
      "Alice was beginning to get very tired of sitting by her sister on the bank, and of having nothing to do: once or twice she had peeped into the book her sister was reading, but it had no pictures or conversations in it, \"and what is the use of a book,\" thought Alice, \"without pictures or conversations?\"\n",
      "\n"
     ]
    }
   ],
   "source": [
    "alice_filename = \"alice.txt\"\n",
    "\n",
    "with open(alice_filename, \"r\") as f:\n",
    "    print(f.readlines()[0])"
   ]
  },
  {
   "cell_type": "markdown",
   "metadata": {},
   "source": [
    "3. Correct the errors in this code. It's ok to run the code first to see the error message:"
   ]
  },
  {
   "cell_type": "code",
   "execution_count": 10,
   "metadata": {},
   "outputs": [
    {
     "data": {
      "text/plain": [
       "26.07"
      ]
     },
     "execution_count": 10,
     "metadata": {},
     "output_type": "execute_result"
    }
   ],
   "source": [
    "def milesToNaut(miles):\n",
    "    naut = round(miles * 0.868976, 2)\n",
    "    return naut\n",
    "\n",
    "milesToNaut(30)"
   ]
  },
  {
   "cell_type": "markdown",
   "metadata": {},
   "source": [
    "4. Make an empty list called `class_list`. Write code to open the file \"class_grades.txt\" and append each line to the `class_list` list with the new line characters removed from the ends of the lines:"
   ]
  },
  {
   "cell_type": "code",
   "execution_count": 17,
   "metadata": {},
   "outputs": [],
   "source": [
    "class_list = []"
   ]
  },
  {
   "cell_type": "code",
   "execution_count": 18,
   "metadata": {},
   "outputs": [],
   "source": [
    "with open(\"class_grades.txt\", \"r\") as f:\n",
    "    for line in f.readlines():\n",
    "        class_list.append(line.rstrip(\"\\n\"))"
   ]
  },
  {
   "cell_type": "code",
   "execution_count": 19,
   "metadata": {},
   "outputs": [
    {
     "name": "stdout",
     "output_type": "stream",
     "text": [
      "['Never gonna give you up', 'Never gonna let you down', 'Never gonna run around and desert you', 'Never gonna make you cry', 'Never gonna say goodbye', 'Never gonna tell a lie and hurt you']\n"
     ]
    }
   ],
   "source": [
    "print(class_list)"
   ]
  },
  {
   "cell_type": "markdown",
   "metadata": {},
   "source": [
    "5. I've written code below to show you what the file `DNAresults.csv` looks like. Decide how you would like to store this data - as a list of lists, a dictionary, a list of dictionaries, or a dictionary of dictionaries. Write down the steps you will need to do to transform the data into your structure of choice, and then try to write the code."
   ]
  },
  {
   "cell_type": "code",
   "execution_count": 20,
   "metadata": {},
   "outputs": [
    {
     "name": "stdout",
     "output_type": "stream",
     "text": [
      "well,sample,site,result\n",
      "\n",
      "1,DNA1,A1847,present\n",
      "\n",
      "2,DNA2,A1847,present\n",
      "\n",
      "3,DNA3,A1847,absent\n",
      "\n",
      "4,DNA4,A1847,absent\n",
      "\n",
      "5,DNA5,A1847,absent\n",
      "\n",
      "6,DNA6,A1847,present\n",
      "\n",
      "7,DNA7,A1847,present\n",
      "\n",
      "8,DNA8,A1847,absent\n",
      "\n",
      "9,DNA9,A1847,absent\n",
      "\n",
      "10,DNA10,A1847,absent\n",
      "\n",
      "11,DNA11,A1847,absent\n",
      "\n",
      "12,none,A1847,absent\n",
      "\n",
      "13,DNA1,A381,present\n",
      "\n",
      "14,DNA2,A381,absent\n",
      "\n",
      "15,DNA3,A381,present\n",
      "\n",
      "16,DNA4,A381,present\n",
      "\n",
      "17,DNA5,A381,absent\n",
      "\n",
      "18,DNA6,A381,present\n",
      "\n",
      "19,DNA7,A381,present\n",
      "\n",
      "20,DNA8,A381,present\n",
      "\n",
      "21,DNA9,A381,present\n",
      "\n",
      "22,DNA10,A381,absent\n",
      "\n",
      "23,DNA11,A381,absent\n",
      "\n",
      "24,none,A381,absent\n",
      "\n",
      "25,DNA1,B372,absent\n",
      "\n",
      "26,DNA2,B372,absent\n",
      "\n",
      "27,DNA3,B372,present\n",
      "\n",
      "28,DNA4,B372,present\n",
      "\n",
      "29,DNA5,B372,present\n",
      "\n",
      "30,DNA6,B372,present\n",
      "\n",
      "31,DNA7,B372,present\n",
      "\n",
      "32,DNA8,B372,present\n",
      "\n",
      "33,DNA9,B372,present\n",
      "\n",
      "34,DNA10,B372,absent\n",
      "\n",
      "35,DNA11,B372,present\n",
      "\n",
      "36,none,B372,absent\n",
      "\n",
      "37,DNA1,B1827,absent\n",
      "\n",
      "38,DNA2,B1827,present\n",
      "\n",
      "39,DNA3,B1827,present\n",
      "\n",
      "40,DNA4,B1827,absent\n",
      "\n",
      "41,DNA5,B1827,absent\n",
      "\n",
      "42,DNA6,B1827,present\n",
      "\n",
      "43,DNA7,B1827,present\n",
      "\n",
      "44,DNA8,B1827,present\n",
      "\n",
      "45,DNA9,B1827,present\n",
      "\n",
      "46,DNA10,B1827,absent\n",
      "\n",
      "47,DNA11,B1827,present\n",
      "\n",
      "48,none,B1827,absent\n"
     ]
    }
   ],
   "source": [
    "dna_file = \"DNAresults.csv\"\n",
    "with open(dna_file, \"r\") as f:\n",
    "    for line in f.readlines():\n",
    "        print(line)"
   ]
  },
  {
   "cell_type": "code",
   "execution_count": null,
   "metadata": {},
   "outputs": [],
   "source": []
  },
  {
   "cell_type": "code",
   "execution_count": null,
   "metadata": {},
   "outputs": [],
   "source": []
  },
  {
   "cell_type": "code",
   "execution_count": null,
   "metadata": {},
   "outputs": [],
   "source": []
  },
  {
   "cell_type": "code",
   "execution_count": null,
   "metadata": {},
   "outputs": [],
   "source": []
  },
  {
   "cell_type": "code",
   "execution_count": null,
   "metadata": {},
   "outputs": [],
   "source": []
  },
  {
   "cell_type": "code",
   "execution_count": null,
   "metadata": {},
   "outputs": [],
   "source": []
  }
 ],
 "metadata": {
  "kernelspec": {
   "display_name": "Python 3 (ipykernel)",
   "language": "python",
   "name": "python3"
  },
  "language_info": {
   "codemirror_mode": {
    "name": "ipython",
    "version": 3
   },
   "file_extension": ".py",
   "mimetype": "text/x-python",
   "name": "python",
   "nbconvert_exporter": "python",
   "pygments_lexer": "ipython3",
   "version": "3.11.4"
  }
 },
 "nbformat": 4,
 "nbformat_minor": 4
}
